{
 "cells": [
  {
   "cell_type": "code",
   "execution_count": 1,
   "id": "94ff440a",
   "metadata": {},
   "outputs": [],
   "source": [
    "# library\n",
    "import xgboost as xgb\n",
    "import pandas as pd\n",
    "import time\n",
    "from sklearn.metrics import mean_squared_error\n",
    "import numpy as np\n",
    "import logging\n",
    "from sklearn.metrics import r2_score\n",
    "from sklearn import metrics\n",
    "from sklearn.model_selection import GridSearchCV\n",
    "import matplotlib.pyplot as plt\n",
    "logging.basicConfig(format='%(asctime)s: %(levelname)s: %(message)s', level=logging.INFO)"
   ]
  },
  {
   "cell_type": "code",
   "execution_count": 2,
   "id": "35aa8179",
   "metadata": {},
   "outputs": [
    {
     "data": {
      "text/html": [
       "<div>\n",
       "<style scoped>\n",
       "    .dataframe tbody tr th:only-of-type {\n",
       "        vertical-align: middle;\n",
       "    }\n",
       "\n",
       "    .dataframe tbody tr th {\n",
       "        vertical-align: top;\n",
       "    }\n",
       "\n",
       "    .dataframe thead th {\n",
       "        text-align: right;\n",
       "    }\n",
       "</style>\n",
       "<table border=\"1\" class=\"dataframe\">\n",
       "  <thead>\n",
       "    <tr style=\"text-align: right;\">\n",
       "      <th></th>\n",
       "      <th>Encoded_SKU_ID</th>\n",
       "      <th>SALES_DATE</th>\n",
       "      <th>SALES_MONTH</th>\n",
       "      <th>SALES_DAY</th>\n",
       "      <th>SALES_WEEKDAY</th>\n",
       "      <th>SALES_HOLIDAY</th>\n",
       "      <th>SUBCLASS_NAME_CAT</th>\n",
       "      <th>CLASS_NAME_CAT</th>\n",
       "      <th>ML_NAME_CAT</th>\n",
       "      <th>CATEGORY_NAME_CAT</th>\n",
       "      <th>INVENTORY_CAT</th>\n",
       "      <th>GSPI</th>\n",
       "      <th>DAILY_UNITS</th>\n",
       "    </tr>\n",
       "  </thead>\n",
       "  <tbody>\n",
       "    <tr>\n",
       "      <th>0</th>\n",
       "      <td>1</td>\n",
       "      <td>2017-05-28</td>\n",
       "      <td>5</td>\n",
       "      <td>28</td>\n",
       "      <td>6</td>\n",
       "      <td>0</td>\n",
       "      <td>43</td>\n",
       "      <td>7</td>\n",
       "      <td>1</td>\n",
       "      <td>0</td>\n",
       "      <td>1</td>\n",
       "      <td>0.095363</td>\n",
       "      <td>0</td>\n",
       "    </tr>\n",
       "    <tr>\n",
       "      <th>1</th>\n",
       "      <td>2</td>\n",
       "      <td>2017-05-28</td>\n",
       "      <td>5</td>\n",
       "      <td>28</td>\n",
       "      <td>6</td>\n",
       "      <td>0</td>\n",
       "      <td>7</td>\n",
       "      <td>7</td>\n",
       "      <td>1</td>\n",
       "      <td>0</td>\n",
       "      <td>3</td>\n",
       "      <td>0.095363</td>\n",
       "      <td>0</td>\n",
       "    </tr>\n",
       "    <tr>\n",
       "      <th>2</th>\n",
       "      <td>5</td>\n",
       "      <td>2017-05-28</td>\n",
       "      <td>5</td>\n",
       "      <td>28</td>\n",
       "      <td>6</td>\n",
       "      <td>0</td>\n",
       "      <td>61</td>\n",
       "      <td>18</td>\n",
       "      <td>0</td>\n",
       "      <td>1</td>\n",
       "      <td>1</td>\n",
       "      <td>0.095363</td>\n",
       "      <td>0</td>\n",
       "    </tr>\n",
       "    <tr>\n",
       "      <th>3</th>\n",
       "      <td>6</td>\n",
       "      <td>2017-05-28</td>\n",
       "      <td>5</td>\n",
       "      <td>28</td>\n",
       "      <td>6</td>\n",
       "      <td>0</td>\n",
       "      <td>107</td>\n",
       "      <td>18</td>\n",
       "      <td>0</td>\n",
       "      <td>1</td>\n",
       "      <td>1</td>\n",
       "      <td>0.095363</td>\n",
       "      <td>0</td>\n",
       "    </tr>\n",
       "    <tr>\n",
       "      <th>4</th>\n",
       "      <td>7</td>\n",
       "      <td>2017-05-28</td>\n",
       "      <td>5</td>\n",
       "      <td>28</td>\n",
       "      <td>6</td>\n",
       "      <td>0</td>\n",
       "      <td>61</td>\n",
       "      <td>18</td>\n",
       "      <td>0</td>\n",
       "      <td>1</td>\n",
       "      <td>3</td>\n",
       "      <td>0.095363</td>\n",
       "      <td>0</td>\n",
       "    </tr>\n",
       "  </tbody>\n",
       "</table>\n",
       "</div>"
      ],
      "text/plain": [
       "   Encoded_SKU_ID  SALES_DATE  SALES_MONTH  SALES_DAY  SALES_WEEKDAY  \\\n",
       "0               1  2017-05-28            5         28              6   \n",
       "1               2  2017-05-28            5         28              6   \n",
       "2               5  2017-05-28            5         28              6   \n",
       "3               6  2017-05-28            5         28              6   \n",
       "4               7  2017-05-28            5         28              6   \n",
       "\n",
       "   SALES_HOLIDAY  SUBCLASS_NAME_CAT  CLASS_NAME_CAT  ML_NAME_CAT  \\\n",
       "0              0                 43               7            1   \n",
       "1              0                  7               7            1   \n",
       "2              0                 61              18            0   \n",
       "3              0                107              18            0   \n",
       "4              0                 61              18            0   \n",
       "\n",
       "   CATEGORY_NAME_CAT  INVENTORY_CAT      GSPI  DAILY_UNITS  \n",
       "0                  0              1  0.095363            0  \n",
       "1                  0              3  0.095363            0  \n",
       "2                  1              1  0.095363            0  \n",
       "3                  1              1  0.095363            0  \n",
       "4                  1              3  0.095363            0  "
      ]
     },
     "execution_count": 2,
     "metadata": {},
     "output_type": "execute_result"
    }
   ],
   "source": [
    "# import the csv data\n",
    "import_file_name = 'bestbuy_data_xgboost.csv'\n",
    "data_df = pd.read_csv(import_file_name)\n",
    "data_df.head(5)"
   ]
  },
  {
   "cell_type": "code",
   "execution_count": 3,
   "id": "02b2fb54",
   "metadata": {},
   "outputs": [
    {
     "name": "stdout",
     "output_type": "stream",
     "text": [
      "Number of Rows: 846632\n",
      "Number of Rows: 842722\n",
      "Index(['Encoded_SKU_ID', 'SALES_MONTH', 'SALES_DAY', 'SALES_WEEKDAY',\n",
      "       'SALES_HOLIDAY', 'SUBCLASS_NAME_CAT', 'CLASS_NAME_CAT', 'ML_NAME_CAT',\n",
      "       'CATEGORY_NAME_CAT', 'INVENTORY_CAT', 'GSPI', 'DAILY_UNITS'],\n",
      "      dtype='object')\n",
      "Number of Rows: 3910\n",
      "Index(['Encoded_SKU_ID', 'SALES_MONTH', 'SALES_DAY', 'SALES_WEEKDAY',\n",
      "       'SALES_HOLIDAY', 'SUBCLASS_NAME_CAT', 'CLASS_NAME_CAT', 'ML_NAME_CAT',\n",
      "       'CATEGORY_NAME_CAT', 'INVENTORY_CAT', 'GSPI', 'DAILY_UNITS'],\n",
      "      dtype='object')\n"
     ]
    }
   ],
   "source": [
    "# split the last 7 days for test set\n",
    "train_df = data_df[(data_df['SALES_DATE'] < '2022-07-25')]\n",
    "train_df = train_df.drop(['SALES_DATE'], axis=1)\n",
    "test_df = data_df[(data_df['SALES_DATE'] >= '2022-07-25')]\n",
    "test_df = test_df.drop(['SALES_DATE'], axis=1)\n",
    "print('Number of Rows: ' + str(len(data_df)))\n",
    "print('Number of Rows: ' + str(len(train_df)))\n",
    "print(train_df.columns)\n",
    "print('Number of Rows: ' + str(len(test_df)))\n",
    "print(test_df.columns)"
   ]
  },
  {
   "cell_type": "code",
   "execution_count": 4,
   "id": "7be104d1",
   "metadata": {},
   "outputs": [
    {
     "name": "stdout",
     "output_type": "stream",
     "text": [
      "Number of Rows: 842722\n",
      "Index(['Encoded_SKU_ID', 'SALES_MONTH', 'SALES_DAY', 'SALES_WEEKDAY',\n",
      "       'SALES_HOLIDAY', 'SUBCLASS_NAME_CAT', 'CLASS_NAME_CAT', 'ML_NAME_CAT',\n",
      "       'CATEGORY_NAME_CAT', 'INVENTORY_CAT', 'GSPI'],\n",
      "      dtype='object')\n",
      "Number of Rows: 842722\n",
      "Number of Rows: 3910\n",
      "Index(['Encoded_SKU_ID', 'SALES_MONTH', 'SALES_DAY', 'SALES_WEEKDAY',\n",
      "       'SALES_HOLIDAY', 'SUBCLASS_NAME_CAT', 'CLASS_NAME_CAT', 'ML_NAME_CAT',\n",
      "       'CATEGORY_NAME_CAT', 'INVENTORY_CAT', 'GSPI'],\n",
      "      dtype='object')\n",
      "Number of Rows: 3910\n"
     ]
    }
   ],
   "source": [
    "# prepare for X_train, y_train, X_test, y_test\n",
    "X_train = train_df.loc[:, train_df.columns != 'DAILY_UNITS']\n",
    "y_train = train_df[['DAILY_UNITS']]\n",
    "X_test = test_df.loc[:, test_df.columns != 'DAILY_UNITS']\n",
    "y_test = test_df[['DAILY_UNITS']]\n",
    "print('Number of Rows: ' + str(len(X_train)))\n",
    "print(X_train.columns)\n",
    "print('Number of Rows: ' + str(len(y_train)))\n",
    "print('Number of Rows: ' + str(len(X_test)))\n",
    "print(X_train.columns)\n",
    "print('Number of Rows: ' + str(len(y_test)))"
   ]
  },
  {
   "cell_type": "code",
   "execution_count": 5,
   "id": "2426d5e3",
   "metadata": {},
   "outputs": [],
   "source": [
    "# export the X_train & y_train\n",
    "X_train.to_csv('bestbuy_xgb_Xtrain.csv', index=False)\n",
    "y_train.to_csv('bestbuy_xgb_ytrain.csv', index=False)"
   ]
  },
  {
   "cell_type": "markdown",
   "id": "80c918ac",
   "metadata": {},
   "source": [
    "# xgboost model"
   ]
  },
  {
   "cell_type": "code",
   "execution_count": 6,
   "id": "9912468a",
   "metadata": {},
   "outputs": [],
   "source": [
    "# XGBost model\n",
    "# matrix_train = xgb.DMatrix(X_train, label = y_train)\n",
    "# matrix_test = xgb.DMatrix(X_test, label = y_test)"
   ]
  },
  {
   "cell_type": "code",
   "execution_count": 7,
   "id": "78ad105c",
   "metadata": {},
   "outputs": [
    {
     "name": "stderr",
     "output_type": "stream",
     "text": [
      "2023-01-16 13:01:16,535: INFO: start training XGBoost regressor model\n",
      "2023-01-16 13:17:39,141: INFO: end training XGBoost regressor model\n"
     ]
    },
    {
     "name": "stdout",
     "output_type": "stream",
     "text": [
      "Execution time: 982.6072118282318 seconds\n"
     ]
    }
   ],
   "source": [
    "# run XGBoost\n",
    "reg_mod = xgb.XGBRegressor(\n",
    "    n_estimators=3000,\n",
    "    learning_rate=0.08,\n",
    "    subsample=0.75,\n",
    "    colsample_bytree=1, \n",
    "    max_depth=7,\n",
    "    gamma=0\n",
    ")\n",
    "\n",
    "logging.info(\"start training XGBoost regressor model\")\n",
    "start_time = time.time() # get the start time\n",
    "\n",
    "reg_mod.fit(X_train, y_train)\n",
    "\n",
    "logging.info(\"end training XGBoost regressor model\")\n",
    "end_time = time.time() # get the start time\n",
    "\n",
    "# get the execution time\n",
    "elapsed_time_xgb = end_time - start_time\n",
    "print('Execution time:', elapsed_time_xgb, 'seconds')"
   ]
  },
  {
   "cell_type": "code",
   "execution_count": 8,
   "id": "b728c0f3",
   "metadata": {},
   "outputs": [
    {
     "name": "stdout",
     "output_type": "stream",
     "text": [
      "RMSE: 11.546423\n"
     ]
    }
   ],
   "source": [
    "# prediction\n",
    "preds = reg_mod.predict(X_test)\n",
    "rmse_xgb = mean_squared_error(y_test, preds, squared=False)\n",
    "print(\"RMSE: %f\" % (rmse_xgb))"
   ]
  },
  {
   "cell_type": "code",
   "execution_count": 9,
   "id": "569b9cf7",
   "metadata": {},
   "outputs": [
    {
     "name": "stdout",
     "output_type": "stream",
     "text": [
      "R_Squared Score : 0.700232\n"
     ]
    }
   ],
   "source": [
    "r2_xgb = r2_score(y_test, preds)\n",
    "print(\"R_Squared Score : %f\" % (r2_xgb))"
   ]
  },
  {
   "cell_type": "markdown",
   "id": "1ffefe2e",
   "metadata": {},
   "source": [
    "## GridSearhCV"
   ]
  },
  {
   "cell_type": "code",
   "execution_count": 10,
   "id": "8d2103c7",
   "metadata": {},
   "outputs": [],
   "source": [
    "# params_grid = {'max_depth': [3, 6, 10],\n",
    "#               'learning_rate': [0.01, 0.05, 0.1],\n",
    "#               'n_estimators': [500, 1000, 2000],\n",
    "#               'colsample_bytree': [0.3, 0.7]}\n",
    "\n",
    "# xgb_reg = xgb.XGBRegressor(seed = 20)\n",
    "\n",
    "# clf = GridSearchCV(estimator = xgb_reg,\n",
    "#                   param_grid = params_grid,\n",
    "#                   scoring = 'neg_mean_squared_error',\n",
    "#                   verbose = 1)\n",
    "# logging.info(\"start hyperparameter tuning for XGBoost regressor model\")\n",
    "# start_time = time.time() # get the start time\n",
    "\n",
    "# clf.fit(X_train, y_train)\n",
    "\n",
    "# logging.info(\"end hyperparameter tuning for XGBoost regressor model\")\n",
    "# end_time = time.time() # get the start time\n",
    "\n",
    "# # get the execution time\n",
    "# elapsed_time = end_time - start_time\n",
    "# print('Execution time:', elapsed_time, 'seconds')\n",
    "# print(\"Best parameters:\", clf.best_params_)"
   ]
  },
  {
   "cell_type": "markdown",
   "id": "7c4fa654",
   "metadata": {},
   "source": [
    "## XGBoost Regressor Model with hyperparameter tuning"
   ]
  },
  {
   "cell_type": "code",
   "execution_count": 20,
   "id": "e18037a7",
   "metadata": {},
   "outputs": [
    {
     "name": "stderr",
     "output_type": "stream",
     "text": [
      "2023-01-16 12:13:31,026: INFO: start training XGBoost regressor model\n",
      "2023-01-16 12:14:12,108: INFO: end training XGBoost regressor model\n"
     ]
    },
    {
     "name": "stdout",
     "output_type": "stream",
     "text": [
      "Execution time: 41.083491802215576 seconds\n"
     ]
    }
   ],
   "source": [
    "# run XGBoost\n",
    "xgb_reg_tune = xgb.XGBRegressor(\n",
    "    n_estimators=500,\n",
    "    learning_rate=0.1,\n",
    "    subsample=0.6,\n",
    "    colsample_bytree=0.79, \n",
    "    max_depth=3,\n",
    "    gamma=0.3,\n",
    "    min_child_weight=5,\n",
    "    eval_metric='rmse',\n",
    "    colsample_bylevel=0.7\n",
    ")\n",
    "\n",
    "logging.info(\"start training XGBoost regressor model\")\n",
    "start_time = time.time() # get the start time\n",
    "\n",
    "xgb_reg_tune.fit(X_train, y_train)\n",
    "\n",
    "logging.info(\"end training XGBoost regressor model\")\n",
    "end_time = time.time() # get the start time\n",
    "\n",
    "# get the execution time\n",
    "elapsed_time = end_time - start_time\n",
    "print('Execution time:', elapsed_time, 'seconds')"
   ]
  },
  {
   "cell_type": "code",
   "execution_count": 21,
   "id": "0d3832a1",
   "metadata": {},
   "outputs": [
    {
     "name": "stdout",
     "output_type": "stream",
     "text": [
      "RMSE: 45.141207\n"
     ]
    }
   ],
   "source": [
    "# prediction\n",
    "preds_tune = xgb_reg_tune.predict(X_test)\n",
    "rmse_xgb_tune = mean_squared_error(y_test, preds_tune, squared=False)\n",
    "print(\"RMSE: %f\" % (rmse_xgb_tune))"
   ]
  },
  {
   "cell_type": "code",
   "execution_count": 22,
   "id": "9eed949e",
   "metadata": {},
   "outputs": [
    {
     "name": "stdout",
     "output_type": "stream",
     "text": [
      "R_Squared Score : -3.581813\n"
     ]
    }
   ],
   "source": [
    "r2_xgb_tune = r2_score(y_test, preds_tune)\n",
    "print(\"R_Squared Score : %f\" % (r2_xgb_tune))"
   ]
  },
  {
   "cell_type": "markdown",
   "id": "ca6e3fd6",
   "metadata": {},
   "source": [
    "# Randome Forest Regressor Model"
   ]
  },
  {
   "cell_type": "code",
   "execution_count": 23,
   "id": "1998bce0",
   "metadata": {},
   "outputs": [
    {
     "name": "stderr",
     "output_type": "stream",
     "text": [
      "2023-01-16 13:33:14,403: INFO: start training Random Forest Regressor model\n",
      "/Users/yuchingchen/miniconda3/envs/cse6242_py37/lib/python3.7/site-packages/ipykernel_launcher.py:12: DataConversionWarning: A column-vector y was passed when a 1d array was expected. Please change the shape of y to (n_samples,), for example using ravel().\n",
      "  if sys.path[0] == '':\n",
      "2023-01-16 13:34:09,893: INFO: end training XGBoost regressor model\n"
     ]
    },
    {
     "name": "stdout",
     "output_type": "stream",
     "text": [
      "Execution time: 55.49066376686096 seconds\n"
     ]
    }
   ],
   "source": [
    "from sklearn.ensemble import RandomForestRegressor\n",
    "\n",
    "rfr_model = RandomForestRegressor(bootstrap=True, max_depth=60, max_features=\"auto\", \n",
    "                                  min_samples_leaf=2, min_samples_split=5, n_estimators=24, random_state=64)\n",
    "\n",
    "# rfr_model = RandomForestRegressor(bootstrap=True, max_depth=42, max_features=\"sqrt\", \n",
    "#                                   min_samples_leaf=2, min_samples_split=10, n_estimators=60, random_state=64)\n",
    "\n",
    "logging.info(\"start training Random Forest Regressor model\")\n",
    "start_time = time.time() # get the start time\n",
    "\n",
    "rfr_model.fit(X_train, y_train)\n",
    "\n",
    "logging.info(\"end training XGBoost regressor model\")\n",
    "end_time = time.time() # get the start time\n",
    "\n",
    "# get the execution time\n",
    "elapsed_time_rfr = end_time - start_time\n",
    "print('Execution time:', elapsed_time_rfr, 'seconds')"
   ]
  },
  {
   "cell_type": "code",
   "execution_count": 24,
   "id": "40205ced",
   "metadata": {},
   "outputs": [
    {
     "name": "stdout",
     "output_type": "stream",
     "text": [
      "For the RF model with numerical columns, evaluation metrics are as follow -------\n",
      "Root Mean Squared Error: 10.01\n",
      "R-Squared: 0.77\n"
     ]
    }
   ],
   "source": [
    "# prediction for RF model with numerical columns\n",
    "preds_rfr = rfr_model.predict(X_test)\n",
    "for i, v in enumerate(preds_rfr):\n",
    "    preds_rfr[i] = int(v.round())\n",
    "\n",
    "# Evaluation of the RF model with numerical columns\n",
    "rmse_rfr = round(metrics.mean_squared_error(y_test, preds_rfr, squared=False) , 2)\n",
    "r2_rfr = metrics.r2_score(y_test, preds_rfr)\n",
    "print(\"For the RF model with numerical columns, evaluation metrics are as follow -------\")\n",
    "print(\"Root Mean Squared Error:\", rmse_rfr)\n",
    "print(\"R-Squared: %.2f\" % r2_rfr)"
   ]
  },
  {
   "cell_type": "code",
   "execution_count": 25,
   "id": "a36e8912",
   "metadata": {},
   "outputs": [
    {
     "name": "stdout",
     "output_type": "stream",
     "text": [
      "[('Encoded_SKU_ID', 0.27), ('CLASS_NAME_CAT', 0.17), ('SALES_DAY', 0.15), ('GSPI', 0.11), ('SALES_MONTH', 0.1), ('SUBCLASS_NAME_CAT', 0.09), ('INVENTORY_CAT', 0.05), ('SALES_WEEKDAY', 0.04), ('SALES_HOLIDAY', 0.01), ('CATEGORY_NAME_CAT', 0.01), ('ML_NAME_CAT', 0.0)]\n"
     ]
    },
    {
     "data": {
      "image/png": "[encoded data removed]",
      "text/plain": [
       "<Figure size 1800x360 with 1 Axes>"
      ]
     },
     "metadata": {
      "needs_background": "light"
     },
     "output_type": "display_data"
    }
   ],
   "source": [
    "# perform the feature importance for the RF model with numerical columns\n",
    "importances = list(rfr_model.feature_importances_)\n",
    "\n",
    "feature_names = list(X_train.columns)\n",
    "feature_importances = [(feature, round(importance, 2)) for feature, importance in zip(feature_names, importances)]\n",
    "feature_importances = sorted(feature_importances, key = lambda x: x[1], reverse=True)\n",
    "print(feature_importances)\n",
    "\n",
    "# plot feature importances\n",
    "fig = plt.figure(figsize = (25, 5))\n",
    "plt.bar(feature_names, importances, width=0.4)\n",
    "plt.savefig('RF_importance.png')"
   ]
  },
  {
   "cell_type": "markdown",
   "id": "758ff1ed",
   "metadata": {},
   "source": [
    "# Baseline model"
   ]
  },
  {
   "cell_type": "code",
   "execution_count": 26,
   "id": "b4fe1a24",
   "metadata": {},
   "outputs": [
    {
     "name": "stdout",
     "output_type": "stream",
     "text": [
      "For the baseline model, evaluation metrics are as follow -------\n",
      "Root Mean Squared Error: 22.19\n",
      "R-Squared: -0.10712973\n"
     ]
    }
   ],
   "source": [
    "# Baeline Model: using the mean value of y as prediction\n",
    "avg_unit = y_train.mean()\n",
    "average = [avg_unit] * len(y_test)\n",
    "rmse_base = round(metrics.mean_squared_error(y_test, average, squared=False), 2)\n",
    "r2_base = metrics.r2_score(y_test, average)\n",
    "\n",
    "print(\"For the baseline model, evaluation metrics are as follow -------\")\n",
    "print(\"Root Mean Squared Error:\", rmse_base)\n",
    "print(\"R-Squared: %.8f\" % r2_base)"
   ]
  },
  {
   "cell_type": "markdown",
   "id": "9ed8e9e8",
   "metadata": {},
   "source": [
    "## Compare the result"
   ]
  },
  {
   "cell_type": "code",
   "execution_count": 27,
   "id": "0b007a23",
   "metadata": {},
   "outputs": [
    {
     "data": {
      "text/html": [
       "<div>\n",
       "<style scoped>\n",
       "    .dataframe tbody tr th:only-of-type {\n",
       "        vertical-align: middle;\n",
       "    }\n",
       "\n",
       "    .dataframe tbody tr th {\n",
       "        vertical-align: top;\n",
       "    }\n",
       "\n",
       "    .dataframe thead th {\n",
       "        text-align: right;\n",
       "    }\n",
       "</style>\n",
       "<table border=\"1\" class=\"dataframe\">\n",
       "  <thead>\n",
       "    <tr style=\"text-align: right;\">\n",
       "      <th></th>\n",
       "      <th>Model</th>\n",
       "      <th>Root Mean Square Error</th>\n",
       "      <th>R2 Score</th>\n",
       "      <th>Executed Time (seconds)</th>\n",
       "    </tr>\n",
       "  </thead>\n",
       "  <tbody>\n",
       "    <tr>\n",
       "      <th>0</th>\n",
       "      <td>Baseline</td>\n",
       "      <td>22.190000</td>\n",
       "      <td>-0.10713</td>\n",
       "      <td>-</td>\n",
       "    </tr>\n",
       "    <tr>\n",
       "      <th>1</th>\n",
       "      <td>XGBoost</td>\n",
       "      <td>11.546423</td>\n",
       "      <td>0.70000</td>\n",
       "      <td>982.61</td>\n",
       "    </tr>\n",
       "    <tr>\n",
       "      <th>2</th>\n",
       "      <td>RandomForest Regression</td>\n",
       "      <td>10.010000</td>\n",
       "      <td>0.77000</td>\n",
       "      <td>55.49</td>\n",
       "    </tr>\n",
       "  </tbody>\n",
       "</table>\n",
       "</div>"
      ],
      "text/plain": [
       "                     Model  Root Mean Square Error  R2 Score  \\\n",
       "0                 Baseline               22.190000  -0.10713   \n",
       "1                  XGBoost               11.546423   0.70000   \n",
       "2  RandomForest Regression               10.010000   0.77000   \n",
       "\n",
       "  Executed Time (seconds)  \n",
       "0                       -  \n",
       "1                  982.61  \n",
       "2                   55.49  "
      ]
     },
     "execution_count": 27,
     "metadata": {},
     "output_type": "execute_result"
    }
   ],
   "source": [
    "# unfinish\n",
    "df2 = pd.DataFrame({\"Model\": ['Baseline', 'XGBoost', 'RandomForest Regression'], \"Root Mean Square Error\":[rmse_base, rmse_xgb, rmse_rfr], \"R2 Score\":[round(r2_base, 6), round(r2_xgb, 2), round(r2_rfr, 2)], \"Executed Time (seconds)\":['-', round(elapsed_time_xgb, 2), round(elapsed_time_rfr, 2)]})\n",
    "df2.head()"
   ]
  },
  {
   "cell_type": "code",
   "execution_count": null,
   "id": "04775394",
   "metadata": {},
   "outputs": [],
   "source": []
  }
 ],
 "metadata": {
  "kernelspec": {
   "display_name": "Python 3",
   "language": "python",
   "name": "python3"
  },
  "language_info": {
   "codemirror_mode": {
    "name": "ipython",
    "version": 3
   },
   "file_extension": ".py",
   "mimetype": "text/x-python",
   "name": "python",
   "nbconvert_exporter": "python",
   "pygments_lexer": "ipython3",
   "version": "3.7.13"
  }
 },
 "nbformat": 4,
 "nbformat_minor": 5
}
